{
 "cells": [
  {
   "cell_type": "code",
   "execution_count": 1,
   "metadata": {},
   "outputs": [],
   "source": [
    "import pandas as pd\n",
    "import numpy as np\n",
    "\n",
    "# List of CSV file paths\n",
    "# csv_files = ['submission_rf_2.csv' , 'w2v2_ep7_ft.csv']\n",
    "# add prediction files for ensembling\n",
    "\n",
    "# Read and combine all CSVs\n",
    "dfs = [pd.read_csv(f) for f in csv_files]\n",
    "combined_df = pd.concat(dfs, ignore_index=True)\n",
    "\n",
    "# Define ensemble function\n",
    "def get_ensemble_target(group):\n",
    "    mode_values = group.mode().values\n",
    "    return np.random.choice(mode_values) if len(mode_values) > 1 else mode_values[0]\n",
    "\n",
    "# Create ensembled results\n",
    "ensemble_df = (combined_df\n",
    "               .groupby('ID', as_index=False)\n",
    "               .agg(TARGET=('TARGET', get_ensemble_target))\n",
    "               .sort_values('ID'))\n",
    "\n",
    "# Save to CSV\n",
    "ensemble_df.to_csv('ensembled_results_x.csv', index=False)\n"
   ]
  },
  {
   "cell_type": "code",
   "execution_count": null,
   "metadata": {},
   "outputs": [],
   "source": []
  }
 ],
 "metadata": {
  "kernelspec": {
   "display_name": "Python 3",
   "language": "python",
   "name": "python3"
  },
  "language_info": {
   "codemirror_mode": {
    "name": "ipython",
    "version": 3
   },
   "file_extension": ".py",
   "mimetype": "text/x-python",
   "name": "python",
   "nbconvert_exporter": "python",
   "pygments_lexer": "ipython3",
   "version": "3.12.4"
  }
 },
 "nbformat": 4,
 "nbformat_minor": 2
}
